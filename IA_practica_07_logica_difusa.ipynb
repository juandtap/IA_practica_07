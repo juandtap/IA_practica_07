{
 "cells": [
  {
   "cell_type": "markdown",
   "metadata": {},
   "source": [
    "![ups logo](https://upload.wikimedia.org/wikipedia/commons/thumb/b/b0/Logo_Universidad_Polit%C3%A9cnica_Salesiana_del_Ecuador.png/640px-Logo_Universidad_Polit%C3%A9cnica_Salesiana_del_Ecuador.png)\n",
    "\n",
    "# Inteligencia Artificial\n",
    "\n",
    "# Practica 07\n",
    "\n",
    "## Ejemplo de aplicación de Lógica Difusa (Fuzzy Logic)\n",
    "###  Análisis del abandono de estudios Universitarios\n",
    "\n",
    "### Autor: Diego Tapia"
   ]
  },
  {
   "cell_type": "markdown",
   "metadata": {},
   "source": [
    "### 1. Descripción del ejemplo\n",
    "\n",
    "En este ejemplo se busca predecir si va a llover, a partir del análisis de tres variables, Temperatura, Velocidad del Viento y Humedad\n",
    "\n",
    "\n",
    "#### Tabla 1. Variables de Entrada\n",
    "\n",
    "| Variable de Entrada | Nombre del Conjunto Fuzzy | Dominio               |\n",
    "|---------------------|---------------------------|-----------------------|\n",
    "| **GPA**  (Grade Point Average)           | Bueno        | 2 a 4                 |\n",
    "|                     | Insuficiente              | 1 a 3                 |\n",
    "|                     | Malo                      | Menos de 1            |\n",
    "| **Tiempo Estudios** | Estándar                  | Menos de 9 semestres |\n",
    "|                     | Exceso                    | 8 a 12 semestres      |\n",
    "|                     | Demasiado                  | 11 a 14 semestres     |\n",
    "| **Dias de descanso**            | Nunca                     | 0 veces               |\n",
    "|                     | Raramente                 | 0 a 3 veces           |\n",
    "|                     | A menudo                  | Más de dos veces      |\n",
    "| **No acudio al SPC** (Student Performance Committee)      | Nunca          | 0 veces               |\n",
    "|             | Raramente                 | 0 a 3 veces           |\n",
    "|                     | A menudo                  | Más de dos veces      |\n",
    "\n",
    "GPA (Grade Point Average):\n",
    "\n",
    "El GPA, o Promedio de Puntos de Calificación, es una medida numérica del rendimiento académico de un estudiante. Generalmente, se calcula asignando un valor numérico a las calificaciones obtenidas en cada curso y luego calculando el promedio. En la tabla proporcionada, se describen tres conjuntos difusos para el GPA: \"Bueno\" para calificaciones entre 2 y 4, \"Insuficiente\" para calificaciones entre 1 y 3, y \"Malo\" para calificaciones menores a 1.\n",
    "\n",
    "SPC (Student Performance Committee):\n",
    "\n",
    "El SPC, o Comité de Rendimiento Estudiantil, es un comité encargado de revisar el desempeño académico de los estudiantes y tomar decisiones relacionadas con su rendimiento. En el contexto de la tabla, se detallan tres conjuntos difusos para la participación del estudiante en el comité SPC: \"Nunca\" para ninguna participación, \"Raramente\" para participación de 0 a 3 veces, y \"A menudo\" para participación más de dos veces. Este comité no solo toma decisiones disciplinarias, sino que también aconseja y orienta a los estudiantes en su desempeño académico.\n",
    "\n",
    "\n",
    "#### Tabla 2. Variable de salida\n",
    "\n",
    "| Salida     | Marca | \n",
    "|---------------------|----------------------|\n",
    "| Buen estudiante | Mas de 60     |              \n",
    "| Peligro           |    de 40 a 50    | \n",
    "| Abandona         |   menor a 40     |               \n"
   ]
  },
  {
   "cell_type": "markdown",
   "metadata": {},
   "source": [
    "### Diseño del modelo de Lógica difusa en Mathlab\n",
    "\n",
    "A partir de los datos de las Tablas 1 y 2 construimos nuestro modelo de Lógica difusa en Mathlab Online\n",
    "\n"
   ]
  },
  {
   "cell_type": "markdown",
   "metadata": {},
   "source": []
  }
 ],
 "metadata": {
  "kernelspec": {
   "display_name": "base",
   "language": "python",
   "name": "python3"
  },
  "language_info": {
   "name": "python",
   "version": "3.11.5"
  }
 },
 "nbformat": 4,
 "nbformat_minor": 2
}
